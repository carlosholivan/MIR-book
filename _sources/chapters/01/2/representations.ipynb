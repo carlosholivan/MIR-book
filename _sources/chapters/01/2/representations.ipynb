{
 "cells": [
  {
   "cell_type": "markdown",
   "metadata": {},
   "source": [
    "# Music Representations and Interfaces\n",
    "\n",
    "## Music Representations\n",
    "\n",
    "### Music Score or Sheet\n",
    "\n",
    "### Pianoroll\n",
    "\n",
    "\n",
    "## Interfaces\n",
    "\n",
    "### Musical Instrument Digital Interface (MIDI)\n",
    "\n",
    "#### Tracks\n",
    "\n",
    "Program number\n",
    "\n",
    "Channel\n",
    "\n",
    "#### Note Events\n",
    "\n",
    "Note on\n",
    "\n",
    "Note off\n",
    "\n",
    "Velocity\n",
    "\n",
    "Ticks\n",
    "\n",
    "PPQ (pulses per quarter note)\n",
    "\n",
    "### MusicXML\n",
    "\n",
    "### ABC\n",
    "\n",
    "### Digital Audio Workstation (DAW)"
   ]
  }
 ],
 "metadata": {
  "language_info": {
   "name": "python"
  },
  "orig_nbformat": 4
 },
 "nbformat": 4,
 "nbformat_minor": 2
}
