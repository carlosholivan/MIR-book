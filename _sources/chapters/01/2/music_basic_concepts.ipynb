{
 "cells": [
  {
   "cell_type": "markdown",
   "id": "70286cfd",
   "metadata": {},
   "source": [
    "# Music and Sound Basic Concepts\n",
    "\n",
    "\n",
    "## Melody"
   ]
  },
  {
   "cell_type": "markdown",
   "id": "1ad9626e",
   "metadata": {},
   "source": [
    "## Harmony\n",
    "\n",
    "### Key or Tonality\n",
    "\n",
    "### Chord\n",
    "\n",
    "### Chord or HArmonic Progression"
   ]
  },
  {
   "cell_type": "markdown",
   "id": "e2d11edf",
   "metadata": {},
   "source": [
    "## Rhythm"
   ]
  },
  {
   "cell_type": "markdown",
   "id": "1c94df18",
   "metadata": {},
   "source": [
    "## Form or Structure"
   ]
  },
  {
   "cell_type": "markdown",
   "id": "3808b6e4",
   "metadata": {},
   "source": [
    "## Texture"
   ]
  }
 ],
 "metadata": {
  "kernelspec": {
   "display_name": "Python 3 (ipykernel)",
   "language": "python",
   "name": "python3"
  },
  "language_info": {
   "codemirror_mode": {
    "name": "ipython",
    "version": 3
   },
   "file_extension": ".py",
   "mimetype": "text/x-python",
   "name": "python",
   "nbconvert_exporter": "python",
   "pygments_lexer": "ipython3",
   "version": "3.8.3"
  }
 },
 "nbformat": 4,
 "nbformat_minor": 5
}
