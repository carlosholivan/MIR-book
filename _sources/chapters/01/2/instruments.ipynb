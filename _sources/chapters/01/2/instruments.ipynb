{
 "cells": [
  {
   "cell_type": "markdown",
   "metadata": {},
   "source": [
    "# Instruments and Tracks\n",
    "\n",
    "## Instruments\n",
    "\n",
    "## Ensemble\n",
    "\n",
    "## Orchestra"
   ]
  }
 ],
 "metadata": {
  "language_info": {
   "name": "python"
  },
  "orig_nbformat": 4
 },
 "nbformat": 4,
 "nbformat_minor": 2
}
