{
 "cells": [
  {
   "cell_type": "markdown",
   "metadata": {},
   "source": [
    "# What is Music?\n",
    "\n",
    "Music was born in the ancient Greece. {cite:p}`burkholder2019history`\n",
    "\n",
    "There are several ways to define music.\n",
    "\n",
    "Cambridge dictionary: \n",
    "\n",
    "```{admonition} Definition\n",
    ":class: important\n",
    "<i>\"Music is a pattern of sounds made by musical instruments, voices, or computers, or a combination of these, intended to give pleasure to people listening to it\"</i>\n",
    "```\n",
    "\n",
    "## Music Theory\n",
    "\n",
    "As it happens with MIR, there are also several subfields that involve Music such as Musicology, Music Therapy, Music Education or Music Production.\n",
    "\n",
    "```{admonition} Definition\n",
    ":class: important\n",
    "Music Theory is a subfield of musicology that aims to study the the musical phenomena such as the melody, rhythm, counterpoint, harmony, form, tonal systems, scales, tuning, intervals...\n",
    "```"
   ]
  }
 ],
 "metadata": {
  "language_info": {
   "name": "python"
  },
  "orig_nbformat": 4
 },
 "nbformat": 4,
 "nbformat_minor": 2
}
