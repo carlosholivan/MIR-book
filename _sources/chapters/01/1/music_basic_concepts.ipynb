{
 "cells": [
  {
   "cell_type": "markdown",
   "id": "70286cfd",
   "metadata": {},
   "source": [
    "# Music and Sound Basic Concepts\n",
    "\n",
    "\n",
    "## Melody\n",
    "\n"
   ]
  },
  {
   "cell_type": "markdown",
   "id": "1ad9626e",
   "metadata": {},
   "source": [
    "## Harmony\n",
    "\n",
    "```{admonition} Definition\n",
    ":class: important\n",
    "It is the superposition of notes that form chords which compose a chord progression.\n",
    "```\n",
    "\n",
    "**Key or Tonality**\n",
    "\n",
    "**Chord**\n",
    "\n",
    "```{admonition} Definition\n",
    ":class: important\n",
    "is any harmonic set of pitches/frequencies consisting of multiple notes (also called \"pitches\") that are heard as if sounding simultaneously {cite:p}`benward2014music`.\n",
    "```\n",
    "\n",
    "Tonic...Inversions...\n",
    "\n",
    "There are some ways to characterize chords regarding the symbology used. There's the American notation or the Baroque notation. For more information visit [this wkipedia page](https://en.wikipedia.org/wiki/Chord_(music)#cite_note-chord-1)\n",
    "\n",
    "**Chord Progresion or Harmonic Progression**"
   ]
  },
  {
   "cell_type": "markdown",
   "id": "e2d11edf",
   "metadata": {},
   "source": [
    "## Rhythm"
   ]
  },
  {
   "cell_type": "markdown",
   "id": "1c94df18",
   "metadata": {},
   "source": [
    "## Form or Structure\n",
    "\n",
    "```{admonition} Definition\n",
    "...\n",
    "```\n",
    "\n",
    "This is the high-level structure that music presents and it is related with the time\n",
    "dimension. The smallest part of a music piece is the motif which is developed in a music phrase and the\n",
    "combination of music phrases form a section. Sections in music are ordered depending on the music style such\n",
    "as intro-verse-chorus-verse-outro for some pop songs (also represented as ABCBA) or exposition-developmentrecapitulation or ABA for Sonatas. The concatenation of sections which can be in different scales and modes\n",
    "gives us the entire composition."
   ]
  },
  {
   "cell_type": "markdown",
   "id": "3808b6e4",
   "metadata": {},
   "source": [
    "## Texture\n",
    "\n",
    "Music can be monophonic or polyphonic\n",
    "depending on the notes that are played at the same time step, homophonic or heterophonic depending on the\n",
    "melody, if it has or not accompaniment.\n",
    "\n",
    "```{admonition} Definition\n",
    ":class: important\n",
    "Texture in music terms refers to the melodic, rhythmic and harmonic contents that have\n",
    "to be combined in a composition in order to form the music piece\n",
    "```"
   ]
  }
 ],
 "metadata": {
  "kernelspec": {
   "display_name": "Python 3 (ipykernel)",
   "language": "python",
   "name": "python3"
  },
  "language_info": {
   "codemirror_mode": {
    "name": "ipython",
    "version": 3
   },
   "file_extension": ".py",
   "mimetype": "text/x-python",
   "name": "python",
   "nbconvert_exporter": "python",
   "pygments_lexer": "ipython3",
   "version": "3.8.3"
  }
 },
 "nbformat": 4,
 "nbformat_minor": 5
}
