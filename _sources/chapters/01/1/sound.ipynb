{
 "cells": [
  {
   "cell_type": "markdown",
   "metadata": {},
   "source": [
    "# Sound\n",
    "\n",
    "## Expression\n",
    "\n",
    "### Dynamics\n",
    "\n",
    "### Tempo\n",
    "\n",
    "### Articulations\n",
    "\n",
    "## Synthesis\n"
   ]
  }
 ],
 "metadata": {
  "language_info": {
   "name": "python"
  },
  "orig_nbformat": 4
 },
 "nbformat": 4,
 "nbformat_minor": 2
}
