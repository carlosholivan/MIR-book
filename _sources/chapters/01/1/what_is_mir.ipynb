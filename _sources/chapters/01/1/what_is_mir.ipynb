{
 "cells": [
  {
   "cell_type": "markdown",
   "metadata": {},
   "source": [
    "# What is MIR?\n",
    "\n",
    "Music Information Retrieval (MIR) is a field that aims at developing computational tools for processing, searching, organizing, and accessing music-related data  {cite}`ismir`.\n",
    "\n",
    "MIR involves several subtasks such as Automatic Music Transcription (AMT), Music Generation or Chord Recognition.\n",
    "\n",
    "<img src=\"../../images/mir_scheme.png\" width=\"450px\">\n",
    "\n"
   ]
  }
 ],
 "metadata": {
  "language_info": {
   "name": "python"
  },
  "orig_nbformat": 4
 },
 "nbformat": 4,
 "nbformat_minor": 2
}
