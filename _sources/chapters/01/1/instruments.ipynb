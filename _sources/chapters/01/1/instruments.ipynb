{
 "cells": [
  {
   "cell_type": "markdown",
   "metadata": {},
   "source": [
    "# Instruments and Tracks\n",
    "\n",
    "## Instruments\n",
    "\n",
    "## Ensemble\n",
    "\n",
    "## Orchestra\n",
    "\n",
    "<img src=\"../../images/orchestra.png\" width=\"750px\">"
   ]
  },
  {
   "cell_type": "markdown",
   "metadata": {},
   "source": [
    "## Instrumentation and Orchestration\n",
    "\n",
    "Instrumentation and Orchestration are music techniques that take into account the number of instruments\n",
    "or tracks in a music piece {cite:p}`hernandezolivan2021music`.\n",
    "\n",
    "### Instrumentation\n",
    "\n",
    "```{admonition} Definition\n",
    ":class: important\n",
    "Instrumentation is the technique that combines musical instruments\n",
    "which compose a music piece...\n",
    "```\n",
    "\n",
    "### Orchestration\n",
    "\n",
    "```{admonition} Definition\n",
    ":class: important\n",
    "Is the assignment of melodies and accompaniment to\n",
    "the different instruments that compose a determined music piece.\n",
    "```"
   ]
  }
 ],
 "metadata": {
  "language_info": {
   "name": "python"
  },
  "orig_nbformat": 4
 },
 "nbformat": 4,
 "nbformat_minor": 2
}
