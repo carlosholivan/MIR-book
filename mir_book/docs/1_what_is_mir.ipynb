{
 "cells": [
  {
   "cell_type": "markdown",
   "metadata": {},
   "source": [
    "# 1.1. What is MIR?\n",
    "\n",
    "Music Information Retrieval (MIR) is a field that aims at developing computational tools for processing, searching, organizing, and accessing music-related data  {cite}`ismir`.\n",
    "\n",
    "MIR involves several subtasks such as Automatic Music Transcription (AMT), Music Generation or Chord Recognition."
   ]
  },
  {
   "cell_type": "markdown",
   "metadata": {},
   "source": [
    "## 1.2. What is Music?\n",
    "\n",
    "Music was born in the ancient Greece. {cite}`burkholder2019history`\n",
    "\n",
    "There are several ways to define music.\n",
    "\n",
    "Cambridge dictionary: <i>\"Music is a pattern of sounds made by musical instruments, voices, or computers, or a combination of these, intended to give pleasure to people listening to it\"</i>\n",
    "\n",
    "### Music Theory\n",
    "\n",
    "As it happens with MIR, there are also several subfields that involve Music such as Musicology, Music Therapy, Music Education or Music Production.\n",
    "\n",
    "Music Theory is a subfield of musicology that aims to study the the musical phenomena such as the melody, rhythm, counterpoint, harmony, form, tonal systems, scales, tuning, intervals..."
   ]
  }
 ],
 "metadata": {
  "language_info": {
   "name": "python"
  },
  "orig_nbformat": 4
 },
 "nbformat": 4,
 "nbformat_minor": 2
}
